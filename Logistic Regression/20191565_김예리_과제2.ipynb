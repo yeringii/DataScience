{
  "nbformat": 4,
  "nbformat_minor": 0,
  "metadata": {
    "colab": {
      "name": "20191565_김예리_과제2.ipynb",
      "provenance": []
    },
    "kernelspec": {
      "name": "python3",
      "display_name": "Python 3"
    },
    "language_info": {
      "name": "python"
    }
  },
  "cells": [
    {
      "cell_type": "code",
      "metadata": {
        "colab": {
          "base_uri": "https://localhost:8080/"
        },
        "id": "WqKU35Kmk8Bm",
        "outputId": "7b5f976a-b151-4c63-98b3-a518981dd9af"
      },
      "source": [
        "#pytorch로 Logistic Regression 구현\n",
        "\n",
        "#학습 데이터 생성\n",
        "import torch\n",
        "\n",
        "x_train = torch.FloatTensor([[1],[2],[3],[4],[5],[2.5],[3.5],[0],[3.1],[2.7],[2.8],[2.9]])\n",
        "y_train = torch.FloatTensor([[1],[1],[1],[0],[0],[0],[0],[1],[0],[1],[1],[1]])\n",
        "\n",
        "#W,b 초기화 \n",
        "#learning rate 설정\n",
        "\n",
        "W = torch.zeros(1,1)\n",
        "b = torch.zeros(1,1)\n",
        "\n",
        "lr = 1.0\n",
        "\n",
        "#반복횟수 설정, W b의 requires_grad = True\n",
        "for epoch in range(3001):\n",
        "  W.requires_grad_(True)\n",
        "  b.requires_grad_(True)\n",
        "  \n",
        "\n",
        "\n",
        "  #Hypothesis, cost 설정\n",
        "  h = torch.sigmoid(torch.mm(x_train, W) + b)\n",
        "  cost = torch.mean(\n",
        "    -y_train * torch.log(h)\n",
        "    -(1 - y_train) * torch.log(1-h)\n",
        "  )\n",
        "  #경사 계산 , W, b 업데이트\n",
        "  cost.backward()\n",
        "  with torch.no_grad() as grd:\n",
        "    W = W - lr * W.grad\n",
        "    b = b - lr * b.grad\n",
        "    #학습 확인용 내용 출력\n",
        "    #ppt와 동일함을 위해 100 -> 300, b -> b.squeeze()로 수정\n",
        "    if epoch % 300 == 0:\n",
        "      print( 'epoch: {}, cost: {:.6f}, W: {:.6f}, b: {:.6f}'.format(epoch, cost.item(), W.squeeze(), b.squeeze()))\n",
        "  \n",
        "  \n",
        "  \n",
        "\n"
      ],
      "execution_count": null,
      "outputs": [
        {
          "output_type": "stream",
          "name": "stdout",
          "text": [
            "epoch: 0, cost: 0.693147, W: -0.154167, b: 0.083333\n",
            "epoch: 300, cost: 0.390820, W: -2.174322, b: 6.609553\n",
            "epoch: 600, cost: 0.383699, W: -2.620779, b: 7.953164\n",
            "epoch: 900, cost: 0.382149, W: -2.832521, b: 8.587363\n",
            "epoch: 1200, cost: 0.381706, W: -2.946401, b: 8.927779\n",
            "epoch: 1500, cost: 0.381565, W: -3.010968, b: 9.120598\n",
            "epoch: 1800, cost: 0.381517, W: -3.048561, b: 9.232802\n",
            "epoch: 2100, cost: 0.381500, W: -3.070765, b: 9.299053\n",
            "epoch: 2400, cost: 0.381494, W: -3.083991, b: 9.338510\n",
            "epoch: 2700, cost: 0.381492, W: -3.091908, b: 9.362126\n",
            "epoch: 3000, cost: 0.381491, W: -3.096662, b: 9.376306\n"
          ]
        }
      ]
    },
    {
      "cell_type": "code",
      "metadata": {
        "colab": {
          "base_uri": "https://localhost:8080/"
        },
        "id": "cYKag0nwy2fH",
        "outputId": "db4a7695-c360-4336-83c3-54ba8cd4e49b"
      },
      "source": [
        "#x = [4.5] 혹은 [1.1] y는 0인지 1인지\n",
        "x_test = torch.FloatTensor([[4.5],[1.1]])\n",
        "test_result = torch.sigmoid(torch.mm(x_test, W) + b)\n",
        "print(torch.round(test_result))"
      ],
      "execution_count": null,
      "outputs": [
        {
          "output_type": "stream",
          "name": "stdout",
          "text": [
            "tensor([[0.],\n",
            "        [1.]])\n"
          ]
        }
      ]
    },
    {
      "cell_type": "code",
      "metadata": {
        "colab": {
          "base_uri": "https://localhost:8080/"
        },
        "id": "UgVwCNQ1zKfA",
        "outputId": "78566bde-bcf5-48a5-b1fc-a7b6b7b4da02"
      },
      "source": [
        "#여러가지 optimizer 사용해보기\n",
        "\n",
        "optimizer = torch.optim.Adam([W,b], lr=1.0)\n",
        "print(optimizer)\n",
        "optimizer = torch.optim.Adadelta([W,b])\n",
        "print(optimizer)\n",
        "optimizer = torch.optim.Adagrad([W,b])\n",
        "print(optimizer)\n",
        "optimizer = torch.optim.RMSprop([W,b])\n",
        "print(optimizer)\n"
      ],
      "execution_count": null,
      "outputs": [
        {
          "output_type": "stream",
          "name": "stdout",
          "text": [
            "Adam (\n",
            "Parameter Group 0\n",
            "    amsgrad: False\n",
            "    betas: (0.9, 0.999)\n",
            "    eps: 1e-08\n",
            "    lr: 1.0\n",
            "    weight_decay: 0\n",
            ")\n",
            "Adadelta (\n",
            "Parameter Group 0\n",
            "    eps: 1e-06\n",
            "    lr: 1.0\n",
            "    rho: 0.9\n",
            "    weight_decay: 0\n",
            ")\n",
            "Adagrad (\n",
            "Parameter Group 0\n",
            "    eps: 1e-10\n",
            "    initial_accumulator_value: 0\n",
            "    lr: 0.01\n",
            "    lr_decay: 0\n",
            "    weight_decay: 0\n",
            ")\n",
            "RMSprop (\n",
            "Parameter Group 0\n",
            "    alpha: 0.99\n",
            "    centered: False\n",
            "    eps: 1e-08\n",
            "    lr: 0.01\n",
            "    momentum: 0\n",
            "    weight_decay: 0\n",
            ")\n"
          ]
        }
      ]
    },
    {
      "cell_type": "code",
      "metadata": {
        "colab": {
          "base_uri": "https://localhost:8080/",
          "height": 279
        },
        "id": "hZ_Q2wkNz6YM",
        "outputId": "c5daad7c-46f9-4607-d7b1-ccc94306ab4c"
      },
      "source": [
        "#Matplotlib으로 결과 시각화\n",
        "import matplotlib.pyplot as plt\n",
        "W.requires_grad_(False)\n",
        "b.requires_grad_(False)\n",
        "\n",
        "plt.scatter(x_train,y_train, c=\"black\", label=\"Training data\")\n",
        "\n",
        "X = torch.linspace(0,5,100).unsqueeze(1)\n",
        "Y = torch.sigmoid(torch.mm(X,W)+b)\n",
        "#label달기\n",
        "plt.ylabel(\"Probability of 1 (Y)\")\n",
        "plt.xlabel(\"Input (X)\")\n",
        "plt.plot(X,Y, c=\"#ff0000\", label=\"Fitting line\")\n",
        "#범례 표시\n",
        "plt.legend()\n",
        "plt.show()\n",
        "\n",
        "\n"
      ],
      "execution_count": null,
      "outputs": [
        {
          "output_type": "display_data",
          "data": {
            "image/png": "[encoded data removed]",
            "text/plain": [
              "<Figure size 432x288 with 1 Axes>"
            ]
          },
          "metadata": {
            "needs_background": "light"
          }
        }
      ]
    },
    {
      "cell_type": "code",
      "metadata": {
        "colab": {
          "base_uri": "https://localhost:8080/"
        },
        "id": "fJaXSbRs1GiD",
        "outputId": "ad62af16-f1b2-4d3e-e01a-3027f7135a90"
      },
      "source": [
        "#sklearn에서  Logistic Regression 사용\n",
        "from sklearn.linear_model import LogisticRegression\n",
        "x_train = [[1],[2],[3],[4],[5],[2.5],[3.5],[0],[3.1],[2.7],[2.8],[2.9]]\n",
        "y_train = [1,1,1,0,0,0,0,1,0,1,1,1] #pytorch랑 다름\n",
        "\n",
        "model = LogisticRegression(penalty='none')# 비용함수 지정\n",
        "model.fit(x_train, y_train)\n",
        "\n",
        "#W와 b에 해당하는 값 출력\n",
        "#model.coef -> 계수 model.intercept_ -> 절편\n",
        "print(model.coef_, model.intercept_)\n",
        "\n",
        "#새로운 x값이 주어질 때 y값 예측해보기\n",
        "x_test = [[4.5],[1.1]]\n",
        "test_result = model.predict(x_test)\n",
        "print(test_result)"
      ],
      "execution_count": null,
      "outputs": [
        {
          "output_type": "stream",
          "name": "stdout",
          "text": [
            "[[-3.10385806]] [9.39776831]\n",
            "[0 1]\n"
          ]
        }
      ]
    }
  ]
}